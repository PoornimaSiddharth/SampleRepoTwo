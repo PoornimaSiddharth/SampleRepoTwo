{
 "cells": [
  {
   "cell_type": "markdown",
   "id": "99619c0d-633c-4052-ad57-a6448176c9e3",
   "metadata": {},
   "source": [
    "# Data Science Tools and Ecosystem"
   ]
  },
  {
   "cell_type": "markdown",
   "id": "31a5affa-b556-48c2-8e36-a091bf9a343d",
   "metadata": {},
   "source": [
    "## In this notebook, Data Science tools and ecosystem are summarized."
   ]
  },
  {
   "cell_type": "markdown",
   "id": "dc71ba9a-d1ab-4548-941e-abfe25cbcd14",
   "metadata": {},
   "source": [
    "### **Objectives**\n",
    "* Languages for data science\n",
    "* Libraries for data Science\n",
    "* Examples of evaluating arithmetic expressions in Python"
   ]
  },
  {
   "cell_type": "markdown",
   "id": "e1b38967-c9cc-4c21-aa0d-e8fd8423a0f3",
   "metadata": {},
   "source": [
    "### Some of the popular languages that data scientists use are : \n",
    "\n",
    "1. Python\n",
    "2. R\n",
    "3. JavaScript"
   ]
  },
  {
   "cell_type": "markdown",
   "id": "698946d1-4c30-4d29-98a3-645902f47262",
   "metadata": {},
   "source": [
    "### Some of the libraries commonly used by data scientists include : \n",
    "\n",
    "1. Scikit-learn\n",
    "2. Matplotlib\n",
    "3. TensorFlow"
   ]
  },
  {
   "cell_type": "markdown",
   "id": "59af07fe-d4a9-4b88-ad68-d502424d64fd",
   "metadata": {},
   "source": [
    "|Data Science Tools|\n",
    "|:----------------:|\n",
    "|Jupyter Notebooks|\n",
    "|RStudio|\n",
    "|Apache Spark|\n"
   ]
  },
  {
   "cell_type": "markdown",
   "id": "e0f4a69a-b40d-40d8-986e-4ec0aad220f6",
   "metadata": {},
   "source": [
    "### Below are a few examples of evaluating arithmetic expressions in Python."
   ]
  },
  {
   "cell_type": "code",
   "execution_count": 2,
   "id": "21a74fe0-5490-4d4c-8e84-ee14cd7f9670",
   "metadata": {},
   "outputs": [
    {
     "data": {
      "text/plain": [
       "17"
      ]
     },
     "execution_count": 2,
     "metadata": {},
     "output_type": "execute_result"
    }
   ],
   "source": [
    "#This is a simple arithmetic expression to multiply and then add integers. \n",
    "(3*4)+5"
   ]
  },
  {
   "cell_type": "code",
   "execution_count": 3,
   "id": "d99d6676-5b85-4c7a-b305-e0725dd25774",
   "metadata": {},
   "outputs": [
    {
     "data": {
      "text/plain": [
       "3.3333333333333335"
      ]
     },
     "execution_count": 3,
     "metadata": {},
     "output_type": "execute_result"
    }
   ],
   "source": [
    "#This will convert 200 minutes to hours by dividing 200 by 60 . \n",
    "200/60"
   ]
  },
  {
   "cell_type": "markdown",
   "id": "805c44e3-df28-4d79-b321-074e37e34ac4",
   "metadata": {},
   "source": [
    "## Author\n",
    "Poornima Subramaniyan"
   ]
  },
  {
   "cell_type": "code",
   "execution_count": null,
   "id": "66f6b048-9b65-465e-86ad-47c2420a3010",
   "metadata": {},
   "outputs": [],
   "source": []
  }
 ],
 "metadata": {
  "kernelspec": {
   "display_name": "Python 3 (ipykernel)",
   "language": "python",
   "name": "python3"
  },
  "language_info": {
   "codemirror_mode": {
    "name": "ipython",
    "version": 3
   },
   "file_extension": ".py",
   "mimetype": "text/x-python",
   "name": "python",
   "nbconvert_exporter": "python",
   "pygments_lexer": "ipython3",
   "version": "3.11.2"
  }
 },
 "nbformat": 4,
 "nbformat_minor": 5
}
